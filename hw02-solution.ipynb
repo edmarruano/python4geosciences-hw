{
 "cells": [
  {
   "cell_type": "code",
   "execution_count": 4,
   "metadata": {
    "collapsed": false
   },
   "outputs": [],
   "source": [
    "#1\n",
    "d = {'Name':'Edmar Ruano','Hometown':'Sanford, FL','Department':'Atmospheric Sciences','Student Status':'Undergrad','Years at TAMU':4,'Why I am here':'To improve and build on my coding experience.'}"
   ]
  },
  {
   "cell_type": "code",
   "execution_count": 5,
   "metadata": {
    "collapsed": false
   },
   "outputs": [
    {
     "name": "stdout",
     "output_type": "stream",
     "text": [
      "True\n",
      "True\n",
      "False\n"
     ]
    }
   ],
   "source": [
    "#2\n",
    "def isVowel(vowel):\n",
    "    vowels = ['a','e','i','o','u','A','E','I','O','U']\n",
    "    if vowel in vowels:\n",
    "        print('True')\n",
    "    else:\n",
    "        print('False')\n",
    "        \n",
    "isVowel('a')\n",
    "isVowel('E')\n",
    "isVowel('b')"
   ]
  },
  {
   "cell_type": "code",
   "execution_count": 6,
   "metadata": {
    "collapsed": false
   },
   "outputs": [
    {
     "name": "stdout",
     "output_type": "stream",
     "text": [
      "2\n",
      "7\n"
     ]
    }
   ],
   "source": [
    "#3\n",
    "def length(x):\n",
    "    num = 0\n",
    "    for word in x:\n",
    "        num = num + 1\n",
    "    print(num)\n",
    "\n",
    "length(['string1','string2'])\n",
    "length('string1')"
   ]
  },
  {
   "cell_type": "code",
   "execution_count": 21,
   "metadata": {
    "collapsed": false
   },
   "outputs": [
    {
     "data": {
      "text/plain": [
       "'gnitset ma I'"
      ]
     },
     "execution_count": 21,
     "metadata": {},
     "output_type": "execute_result"
    }
   ],
   "source": [
    "#4\n",
    "def reverse(x):\n",
    "    return x[::-1]\n",
    "\n",
    "reverse('I am testing')"
   ]
  },
  {
   "cell_type": "code",
   "execution_count": 29,
   "metadata": {
    "collapsed": false
   },
   "outputs": [
    {
     "name": "stdout",
     "output_type": "stream",
     "text": [
      "true\n",
      "false\n"
     ]
    }
   ],
   "source": [
    "#5\n",
    "def is_palindrome(x):\n",
    "    x = x.lower()\n",
    "    x = x.split()\n",
    "    x = ''.join(x)\n",
    "    if x == reverse(x):\n",
    "        print('true')\n",
    "    else:\n",
    "        print('false')\n",
    "        \n",
    "is_palindrome('Never odd or even')     \n",
    "is_palindrome('Never even or odd')"
   ]
  },
  {
   "cell_type": "code",
   "execution_count": 5,
   "metadata": {
    "collapsed": false
   },
   "outputs": [
    {
     "name": "stdout",
     "output_type": "stream",
     "text": [
      "[(0, 'The MIT License (MIT)\\n'), (1, '\\n'), (2, 'Copyright (c) 2016 Robert D. Hetland and Kristen M. Thyng\\n'), (3, '\\n'), (4, 'Permission is hereby granted, free of charge, to any person obtaining a copy\\n'), (5, 'of this software and associated documentation files (the \"Software\"), to deal\\n'), (6, 'in the Software without restriction, including without limitation the rights\\n'), (7, 'to use, copy, modify, merge, publish, distribute, sublicense, and/or sell\\n'), (8, 'copies of the Software, and to permit persons to whom the Software is\\n'), (9, 'furnished to do so, subject to the following conditions:\\n'), (10, '\\n'), (11, 'The above copyright notice and this permission notice shall be included in all\\n'), (12, 'copies or substantial portions of the Software.\\n'), (13, '\\n'), (14, 'THE SOFTWARE IS PROVIDED \"AS IS\", WITHOUT WARRANTY OF ANY KIND, EXPRESS OR\\n'), (15, 'IMPLIED, INCLUDING BUT NOT LIMITED TO THE WARRANTIES OF MERCHANTABILITY,\\n'), (16, 'FITNESS FOR A PARTICULAR PURPOSE AND NONINFRINGEMENT. IN NO EVENT SHALL THE\\n'), (17, 'AUTHORS OR COPYRIGHT HOLDERS BE LIABLE FOR ANY CLAIM, DAMAGES OR OTHER\\n'), (18, 'LIABILITY, WHETHER IN AN ACTION OF CONTRACT, TORT OR OTHERWISE, ARISING FROM,\\n'), (19, 'OUT OF OR IN CONNECTION WITH THE SOFTWARE OR THE USE OR OTHER DEALINGS IN THE\\n'), (20, 'SOFTWARE.')]\n"
     ]
    }
   ],
   "source": [
    "#6\n",
    "text_file = open('../python4geosciences/LICENSE.txt')\n",
    "lines = text_file.readlines()\n",
    "\n",
    "for line in lines:\n",
    "    word = list(enumerate(lines))\n",
    "print(word)"
   ]
  },
  {
   "cell_type": "code",
   "execution_count": 6,
   "metadata": {
    "collapsed": false
   },
   "outputs": [
    {
     "data": {
      "text/plain": [
       "[4, 2, 5]"
      ]
     },
     "execution_count": 6,
     "metadata": {},
     "output_type": "execute_result"
    }
   ],
   "source": [
    "#7a\n",
    "def method1(x):\n",
    "    def length(x):\n",
    "        num = 0\n",
    "        for word in x:\n",
    "            num = num + 1\n",
    "        return num\n",
    "    b=[]\n",
    "    for t in x:\n",
    "        l = length(t)\n",
    "        b.append(l)\n",
    "    return b\n",
    "\n",
    "method1(['list', 'of', 'words'])"
   ]
  },
  {
   "cell_type": "code",
   "execution_count": 9,
   "metadata": {
    "collapsed": false
   },
   "outputs": [
    {
     "data": {
      "text/plain": [
       "[4, 2, 5]"
      ]
     },
     "execution_count": 9,
     "metadata": {},
     "output_type": "execute_result"
    }
   ],
   "source": [
    "#7b\n",
    "def method2(x):\n",
    "    def length(x1):\n",
    "        num = 0\n",
    "        for word in x1:\n",
    "            num = num + 1\n",
    "        return num\n",
    "    return(list(map(length, x)))\n",
    "        \n",
    "method2(['list', 'of', 'words'])"
   ]
  },
  {
   "cell_type": "code",
   "execution_count": 15,
   "metadata": {
    "collapsed": false
   },
   "outputs": [
    {
     "data": {
      "text/plain": [
       "[4, 2, 5]"
      ]
     },
     "execution_count": 15,
     "metadata": {},
     "output_type": "execute_result"
    }
   ],
   "source": [
    "#7c\n",
    "def method3(x):\n",
    "    def length(x1):\n",
    "        num = 0\n",
    "        for word in x1:\n",
    "            num = num + 1\n",
    "        return num\n",
    "    return[length(x2) for x2 in x]\n",
    "\n",
    "method3(['list', 'of', 'words'])"
   ]
  },
  {
   "cell_type": "code",
   "execution_count": 20,
   "metadata": {
    "collapsed": false
   },
   "outputs": [
    {
     "name": "stdout",
     "output_type": "stream",
     "text": [
      "Encode/Decode:Pnrfne pvcure? V zhpu cersre Pnrfne fnynq!\n"
     ]
    },
    {
     "data": {
      "text/plain": [
       "'Caesar cipher? I much prefer Caesar salad!'"
      ]
     },
     "execution_count": 20,
     "metadata": {},
     "output_type": "execute_result"
    }
   ],
   "source": [
    "#8\n",
    "def rot13():\n",
    "    sentence = input(\"Encode/Decode:\")\n",
    "    key = {'a':'n', 'b':'o', 'c':'p', 'd':'q', 'e':'r', 'f':'s', 'g':'t', 'h':'u', \n",
    "       'i':'v', 'j':'w', 'k':'x', 'l':'y', 'm':'z', 'n':'a', 'o':'b', 'p':'c', \n",
    "       'q':'d', 'r':'e', 's':'f', 't':'g', 'u':'h', 'v':'i', 'w':'j', 'x':'k',\n",
    "       'y':'l', 'z':'m', 'A':'N', 'B':'O', 'C':'P', 'D':'Q', 'E':'R', 'F':'S', \n",
    "       'G':'T', 'H':'U', 'I':'V', 'J':'W', 'K':'X', 'L':'Y', 'M':'Z', 'N':'A', \n",
    "       'O':'B', 'P':'C', 'Q':'D', 'R':'E', 'S':'F', 'T':'G', 'U':'H', 'V':'I', \n",
    "       'W':'J', 'X':'K', 'Y':'L', 'Z':'M', '?':'?', '!':'!', ' ':' '}\n",
    "    old_letter = []\n",
    "    new_letter = []\n",
    "    for word in sentence:\n",
    "        letter = list(word)\n",
    "        for c in letter:\n",
    "            old_letter.append(c)\n",
    "    for d in old_letter:\n",
    "        new = key[d]\n",
    "        new_letter.append(new)\n",
    "    new_sentence = ''.join(new_letter)\n",
    "    return new_sentence\n",
    "\n",
    "rot13()"
   ]
  },
  {
   "cell_type": "code",
   "execution_count": null,
   "metadata": {
    "collapsed": true
   },
   "outputs": [],
   "source": [
    "#9\n"
   ]
  }
 ],
 "metadata": {
  "kernelspec": {
   "display_name": "Python 3",
   "language": "python",
   "name": "python3"
  },
  "language_info": {
   "codemirror_mode": {
    "name": "ipython",
    "version": 3
   },
   "file_extension": ".py",
   "mimetype": "text/x-python",
   "name": "python",
   "nbconvert_exporter": "python",
   "pygments_lexer": "ipython3",
   "version": "3.5.1"
  }
 },
 "nbformat": 4,
 "nbformat_minor": 0
}
