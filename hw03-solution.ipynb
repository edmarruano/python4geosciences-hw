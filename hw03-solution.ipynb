{
 "cells": [
  {
   "cell_type": "code",
   "execution_count": 27,
   "metadata": {
    "collapsed": true
   },
   "outputs": [],
   "source": [
    "import numpy as np"
   ]
  },
  {
   "cell_type": "code",
   "execution_count": 28,
   "metadata": {
    "collapsed": false
   },
   "outputs": [
    {
     "data": {
      "text/plain": [
       "array([0, 0, 0, 0, 1, 0, 0, 0, 0, 0])"
      ]
     },
     "execution_count": 28,
     "metadata": {},
     "output_type": "execute_result"
    }
   ],
   "source": [
    "#1\n",
    "a = np.arange(10)\n",
    "a[1:10] = 0\n",
    "a[4] = 1\n",
    "a"
   ]
  },
  {
   "cell_type": "code",
   "execution_count": 29,
   "metadata": {
    "collapsed": false
   },
   "outputs": [
    {
     "data": {
      "text/plain": [
       "array([10, 11, 12, 13, 14, 15, 16, 17, 18, 19, 20, 21, 22, 23, 24, 25, 26,\n",
       "       27, 28, 29, 30, 31, 32, 33, 34, 35, 36, 37, 38, 39, 40, 41, 42, 43,\n",
       "       44, 45, 46, 47, 48, 49])"
      ]
     },
     "execution_count": 29,
     "metadata": {},
     "output_type": "execute_result"
    }
   ],
   "source": [
    "#2\n",
    "b = np.arange(10,50)\n",
    "b"
   ]
  },
  {
   "cell_type": "code",
   "execution_count": 30,
   "metadata": {
    "collapsed": false
   },
   "outputs": [
    {
     "data": {
      "text/plain": [
       "array([49, 48, 47, 46, 45, 44, 43, 42, 41, 40, 39, 38, 37, 36, 35, 34, 33,\n",
       "       32, 31, 30, 29, 28, 27, 26, 25, 24, 23, 22, 21, 20, 19, 18, 17, 16,\n",
       "       15, 14, 13, 12, 11, 10])"
      ]
     },
     "execution_count": 30,
     "metadata": {},
     "output_type": "execute_result"
    }
   ],
   "source": [
    "#3\n",
    "def reverse(x):\n",
    "    return x[::-1]\n",
    "reverse(b)"
   ]
  },
  {
   "cell_type": "code",
   "execution_count": 49,
   "metadata": {
    "collapsed": false
   },
   "outputs": [
    {
     "data": {
      "text/plain": [
       "array([1, 2, 4])"
      ]
     },
     "execution_count": 49,
     "metadata": {},
     "output_type": "execute_result"
    }
   ],
   "source": [
    "#4\n",
    "def find_nonzero(x):\n",
    "    return np.nonzero(x)\n",
    "x = np.array([1,2,0,0,4,0])\n",
    "find_nonzero(x)\n",
    "x[find_nonzero(x)]"
   ]
  },
  {
   "cell_type": "code",
   "execution_count": 32,
   "metadata": {
    "collapsed": false
   },
   "outputs": [
    {
     "data": {
      "text/plain": [
       "array([[[ -1.19354272e-03,  -1.07230597e+00,   3.44835375e-01],\n",
       "        [  3.00290166e-01,   7.87190060e-01,  -7.58726962e-01],\n",
       "        [  4.98388844e-01,   1.06168226e-01,   9.96658445e-01]],\n",
       "\n",
       "       [[ -1.05710099e+00,   1.20140006e+00,  -1.02807846e-02],\n",
       "        [  4.19231458e-01,   7.87529606e-01,  -2.20271310e-01],\n",
       "        [ -6.59741192e-01,   8.96218047e-01,  -4.79953245e-01]],\n",
       "\n",
       "       [[ -3.50074208e-01,   2.40581054e+00,   2.24797595e-02],\n",
       "        [ -6.80268268e-01,  -4.89261814e-01,  -1.44363863e+00],\n",
       "        [ -3.15740831e+00,   4.68878742e-01,   6.50840673e-01]]])"
      ]
     },
     "execution_count": 32,
     "metadata": {},
     "output_type": "execute_result"
    }
   ],
   "source": [
    "#5\n",
    "c = np.random.normal(0,1,(3,3,3))\n",
    "c"
   ]
  },
  {
   "cell_type": "code",
   "execution_count": 33,
   "metadata": {
    "collapsed": false
   },
   "outputs": [
    {
     "name": "stdout",
     "output_type": "stream",
     "text": [
      "[[  1.96158301e-01   9.54988639e-01   1.13057344e-01   8.84906346e-01\n",
      "    3.60352351e-01   3.72292160e-01   3.46287958e-02   2.22954869e-01\n",
      "    8.10249086e-02   5.58021589e-01]\n",
      " [  9.89759560e-01   7.35475762e-01   2.77827353e-01   9.52476741e-02\n",
      "    4.94582274e-01   4.42572904e-01   4.03873774e-01   6.56352414e-01\n",
      "    3.32183823e-01   2.82362948e-01]\n",
      " [  7.68895790e-04   3.75490235e-01   6.58707288e-02   8.74208071e-01\n",
      "    7.25930274e-01   4.34337269e-01   8.32067174e-01   2.17467944e-01\n",
      "    4.58765419e-01   3.72447572e-01]\n",
      " [  1.31501080e-01   1.13600738e-01   5.01914354e-01   8.99351455e-01\n",
      "    2.65074810e-01   7.13936785e-02   9.09988970e-01   4.51628549e-01\n",
      "    1.26493356e-01   7.65955893e-01]\n",
      " [  9.63950208e-01   7.75809839e-01   4.60838044e-01   1.54160972e-01\n",
      "    5.44381434e-01   9.95226285e-01   5.26580271e-01   1.70699389e-01\n",
      "    7.04501070e-01   9.34464253e-01]\n",
      " [  5.71458275e-01   9.46240459e-01   2.19340592e-01   6.10497617e-02\n",
      "    5.10560972e-01   7.37490416e-01   5.71611377e-02   9.34180450e-01\n",
      "    3.21104747e-01   2.94096122e-01]\n",
      " [  8.81770980e-01   9.68326204e-01   6.36162120e-01   2.80818228e-01\n",
      "    8.90683420e-01   6.09578259e-01   3.94491151e-01   7.79904611e-01\n",
      "    8.95186799e-01   6.92251577e-01]\n",
      " [  5.51520368e-01   6.48720780e-01   9.36195101e-01   2.81254816e-01\n",
      "    1.03896724e-01   6.72641857e-01   3.33768862e-01   2.38268272e-01\n",
      "    3.63707741e-01   4.76456249e-01]\n",
      " [  2.00593243e-02   3.32865855e-02   4.63630351e-01   3.73800506e-01\n",
      "    6.67802894e-01   7.73830072e-01   7.89466609e-01   2.33881062e-01\n",
      "    7.50880870e-01   5.63204976e-01]\n",
      " [  1.35961610e-01   3.18608908e-01   3.36821975e-02   7.68257506e-01\n",
      "    2.01242992e-03   2.14436145e-01   5.55855173e-01   5.89683134e-01\n",
      "    7.45070955e-01   5.65008371e-01]]\n",
      "0.899351455274 0.0952476740858\n"
     ]
    }
   ],
   "source": [
    "#6\n",
    "d = np.random.rand(10,10)\n",
    "print(d)\n",
    "dmax = np.max(d[:,3])\n",
    "dmin = np.min(d[1,:])\n",
    "print(dmax,dmin)\n"
   ]
  },
  {
   "cell_type": "code",
   "execution_count": 34,
   "metadata": {
    "collapsed": false
   },
   "outputs": [
    {
     "data": {
      "text/plain": [
       "array([ 0.09090909,  0.18181818,  0.27272727,  0.36363636,  0.45454545,\n",
       "        0.54545455,  0.63636364,  0.72727273,  0.81818182,  0.90909091])"
      ]
     },
     "execution_count": 34,
     "metadata": {},
     "output_type": "execute_result"
    }
   ],
   "source": [
    "#7\n",
    "e = np.linspace(0, 1, 12, endpoint = True)[1:-1]\n",
    "e"
   ]
  },
  {
   "cell_type": "code",
   "execution_count": 35,
   "metadata": {
    "collapsed": false
   },
   "outputs": [
    {
     "data": {
      "text/plain": [
       "array([ 0.05767896,  0.08028872,  0.09434191,  0.31102898,  0.32563959,\n",
       "        0.34524389,  0.35383083,  0.43936804,  0.50791723,  0.95580785])"
      ]
     },
     "execution_count": 35,
     "metadata": {},
     "output_type": "execute_result"
    }
   ],
   "source": [
    "#8\n",
    "f = np.random.rand(10)\n",
    "f.sort()\n",
    "f"
   ]
  },
  {
   "cell_type": "code",
   "execution_count": 38,
   "metadata": {
    "collapsed": false
   },
   "outputs": [
    {
     "name": "stdout",
     "output_type": "stream",
     "text": [
      "[False False False False False]\n",
      "[ True  True  True  True  True]\n"
     ]
    }
   ],
   "source": [
    "#9\n",
    "A = np.array([1, 2, 3, 4, 5])\n",
    "B = np.array([6, 7, 8, 9, 10])\n",
    "C = np.array([2, 4, 6, 8, 10])\n",
    "D = np.array([2, 4, 6, 8, 10])\n",
    "\n",
    "def is_equal(A, B):\n",
    "    return A == B\n",
    "\n",
    "print(is_equal(A, B))\n",
    "print(is_equal(C, D))"
   ]
  },
  {
   "cell_type": "code",
   "execution_count": 16,
   "metadata": {
    "collapsed": false
   },
   "outputs": [
    {
     "name": "stdout",
     "output_type": "stream",
     "text": [
      "[[-0.15829762 -0.32788507  0.11064887 -0.00136602  0.30664405 -0.09355279\n",
      "  -0.05694624  0.33946673 -0.00849854 -0.11021338]\n",
      " [-0.005883    0.27938999  0.24395353  0.36224465 -0.32168364 -0.28644282\n",
      "  -0.49198099  0.0409939   0.43349318 -0.25408481]\n",
      " [-0.34362387 -0.05096498  0.02711879  0.3619433   0.04552173 -0.48228966\n",
      "  -0.03084059  0.30144036  0.06718954  0.10450536]\n",
      " [ 0.25949129 -0.34141021  0.34578127 -0.4202225   0.23221073 -0.04317365\n",
      "  -0.50194851 -0.09213083  0.30871318  0.25268924]\n",
      " [ 0.1428653   0.22120043 -0.01712093  0.17074358  0.36865984 -0.32263103\n",
      "   0.02601095 -0.06979246 -0.19708176 -0.32285393]\n",
      " [ 0.3002868   0.36912653 -0.50481578 -0.50617281 -0.13731052 -0.45042583\n",
      "   0.26449868  0.39876619  0.20456038  0.06148636]\n",
      " [-0.25347894  0.22062533  0.43638211 -0.12548206 -0.25793395  0.06990651\n",
      "  -0.25856393 -0.13130425 -0.22109951  0.52094869]\n",
      " [-0.27971957  0.22847013 -0.58858146  0.19343425  0.21095198 -0.10081498\n",
      "   0.18852946 -0.0558102   0.0688639   0.1346765 ]\n",
      " [ 0.16624932 -0.15708412 -0.30512452 -0.23028691 -0.05102274  0.10225517\n",
      "  -0.1750917   0.3547543  -0.13757211  0.4329233 ]\n",
      " [ 0.3179192  -0.37611568 -0.21957474 -0.10460492  0.43795038  0.35352509\n",
      "  -0.23309764 -0.14186414 -0.45404592  0.41990838]]\n"
     ]
    }
   ],
   "source": [
    "#10\n",
    "g = d - d.mean(axis = 1, keepdims = True)\n",
    "print(g)"
   ]
  },
  {
   "cell_type": "code",
   "execution_count": 46,
   "metadata": {
    "collapsed": false
   },
   "outputs": [
    {
     "name": "stdout",
     "output_type": "stream",
     "text": [
      "Multiply an array of dimension (5,5,3) with an array with dimensions (5,5): [[[ 0.04908585  0.37898366  0.23140798]\n",
      "  [ 0.15256445  0.28329988  0.12171972]\n",
      "  [ 0.13925066  0.75713298  0.31855991]\n",
      "  [ 0.02980105  0.18917019  0.2750598 ]\n",
      "  [ 0.0936675   0.09651169  0.0404321 ]]\n",
      "\n",
      " [[ 0.25702555  0.11613239  0.38337727]\n",
      "  [ 0.67184945  0.31872014  0.43801649]\n",
      "  [ 0.35212247  0.29727052  0.229682  ]\n",
      "  [ 0.11634371  0.17180634  0.43188336]\n",
      "  [ 0.26557119  0.11389297  0.01691338]]\n",
      "\n",
      " [[ 0.30930579  0.44541496  0.06891259]\n",
      "  [ 0.15038251  0.17718746  0.70398568]\n",
      "  [ 0.11878353  0.19419827  0.01762193]\n",
      "  [ 0.24744365  0.57656252  0.08855676]\n",
      "  [ 0.02985827  0.04536005  0.04501688]]\n",
      "\n",
      " [[ 0.05936985  0.01385829  0.04916371]\n",
      "  [ 0.32004696  0.15449755  0.55952569]\n",
      "  [ 0.63084282  0.20967918  0.2811788 ]\n",
      "  [ 0.16226059  0.43990172  0.37749316]\n",
      "  [ 0.41228574  0.78920401  0.00935785]]\n",
      "\n",
      " [[ 0.02804436  0.02750478  0.07884822]\n",
      "  [ 0.00773537  0.00931079  0.0261254 ]\n",
      "  [ 0.42526873  0.40726366  0.20326177]\n",
      "  [ 0.3663128   0.86440839  0.50100488]\n",
      "  [ 0.28362161  0.15912535  0.2178535 ]]]\n",
      "Then multiply an array of dimension (3,5,5) with an array of dimension (5,5): [[[ 0.04908585  0.37898366  0.23140798]\n",
      "  [ 0.15256445  0.28329988  0.12171972]\n",
      "  [ 0.13925066  0.75713298  0.31855991]\n",
      "  [ 0.02980105  0.18917019  0.2750598 ]\n",
      "  [ 0.0936675   0.09651169  0.0404321 ]]\n",
      "\n",
      " [[ 0.25702555  0.11613239  0.38337727]\n",
      "  [ 0.67184945  0.31872014  0.43801649]\n",
      "  [ 0.35212247  0.29727052  0.229682  ]\n",
      "  [ 0.11634371  0.17180634  0.43188336]\n",
      "  [ 0.26557119  0.11389297  0.01691338]]\n",
      "\n",
      " [[ 0.30930579  0.44541496  0.06891259]\n",
      "  [ 0.15038251  0.17718746  0.70398568]\n",
      "  [ 0.11878353  0.19419827  0.01762193]\n",
      "  [ 0.24744365  0.57656252  0.08855676]\n",
      "  [ 0.02985827  0.04536005  0.04501688]]\n",
      "\n",
      " [[ 0.05936985  0.01385829  0.04916371]\n",
      "  [ 0.32004696  0.15449755  0.55952569]\n",
      "  [ 0.63084282  0.20967918  0.2811788 ]\n",
      "  [ 0.16226059  0.43990172  0.37749316]\n",
      "  [ 0.41228574  0.78920401  0.00935785]]\n",
      "\n",
      " [[ 0.02804436  0.02750478  0.07884822]\n",
      "  [ 0.00773537  0.00931079  0.0261254 ]\n",
      "  [ 0.42526873  0.40726366  0.20326177]\n",
      "  [ 0.3663128   0.86440839  0.50100488]\n",
      "  [ 0.28362161  0.15912535  0.2178535 ]]]\n"
     ]
    }
   ],
   "source": [
    "#11\n",
    "h = np.random.rand(5, 5, 3)\n",
    "i = np.random.rand(5, 5)\n",
    "j = (h * i[:, :, None])\n",
    "print(\"Multiply an array of dimension (5,5,3) with an array with dimensions (5,5):\", j)\n",
    "\n",
    "k = np.random.rand(3, 5, 5)\n",
    "l = np.random.rand(5, 5)\n",
    "m = (h * i[:, :, None])\n",
    "print(\"Then multiply an array of dimension (3,5,5) with an array of dimension (5,5):\", m)"
   ]
  },
  {
   "cell_type": "code",
   "execution_count": 77,
   "metadata": {
    "collapsed": false
   },
   "outputs": [
    {
     "name": "stdout",
     "output_type": "stream",
     "text": [
      "[[[ 1  2  3  4]]\n",
      "\n",
      " [[ 2  3  4  5]]\n",
      "\n",
      " [[ 3  4  5  6]]\n",
      "\n",
      " [[ 4  5  6  7]]\n",
      "\n",
      " [[ 5  6  7  8]]\n",
      "\n",
      " [[ 6  7  8  9]]\n",
      "\n",
      " [[ 7  8  9 10]]\n",
      "\n",
      " [[ 8  9 10 11]]\n",
      "\n",
      " [[ 9 10 11 12]]\n",
      "\n",
      " [[10 11 12 13]]\n",
      "\n",
      " [[11 12 13 14]]]\n"
     ]
    }
   ],
   "source": [
    "#12\n",
    "Z = np.arange(1, 15)\n",
    "q = []\n",
    "for n in Z:\n",
    "    if n < 12:\n",
    "        p = np.array([n, n + 1, n + 2, n + 3])\n",
    "        q.append([p])\n",
    "        R = np.asarray(q)\n",
    "    elif n == 12 or n == 13:  \n",
    "        continue\n",
    "    else:\n",
    "        print(R)"
   ]
  },
  {
   "cell_type": "code",
   "execution_count": 84,
   "metadata": {
    "collapsed": false
   },
   "outputs": [
    {
     "data": {
      "text/plain": [
       "array([[7, 3],\n",
       "       [4, 9]])"
      ]
     },
     "execution_count": 84,
     "metadata": {},
     "output_type": "execute_result"
    }
   ],
   "source": [
    "#13\n",
    "def cart2polar(xy): \n",
    "    x = xy[:,0] \n",
    "    y = xy[:,1]\n",
    "    s = np.sqrt(x**2 + y**2)\n",
    "    t = np.arctan2(y,x)\n",
    "    return np.transpose(np.array([s,t]))\n",
    "\n",
    "u = np.array([[7,3],[4,9]])\n",
    "u"
   ]
  },
  {
   "cell_type": "code",
   "execution_count": 88,
   "metadata": {
    "collapsed": false
   },
   "outputs": [
    {
     "ename": "SyntaxError",
     "evalue": "invalid syntax (<ipython-input-88-e544ad433bd9>, line 10)",
     "output_type": "error",
     "traceback": [
      "\u001b[1;36m  File \u001b[1;32m\"<ipython-input-88-e544ad433bd9>\"\u001b[1;36m, line \u001b[1;32m10\u001b[0m\n\u001b[1;33m    t =\u001b[0m\n\u001b[1;37m        ^\u001b[0m\n\u001b[1;31mSyntaxError\u001b[0m\u001b[1;31m:\u001b[0m invalid syntax\n"
     ]
    }
   ],
   "source": [
    "#14\n",
    "import time\n",
    "a = np.arange(1024.0).reshape(4, 8, 16, 2)   # a 4D array using sequential numbers\n",
    "b = np.random.rand(4, 8, 16, 2)              # a 4D array using random numbers\n",
    "time1\n",
    "sol = a * b  # element-by-element multiplication. This operation is about as fast as it can be on your computer.\n",
    "time2\n",
    "\n",
    "time.time()\n",
    "t = "
   ]
  },
  {
   "cell_type": "code",
   "execution_count": 85,
   "metadata": {
    "collapsed": false
   },
   "outputs": [
    {
     "ename": "ValueError",
     "evalue": "operands could not be broadcast together with shapes (3,2) (3,) ",
     "output_type": "error",
     "traceback": [
      "\u001b[1;31m---------------------------------------------------------------------------\u001b[0m",
      "\u001b[1;31mValueError\u001b[0m                                Traceback (most recent call last)",
      "\u001b[1;32m<ipython-input-85-b915ea8e0232>\u001b[0m in \u001b[0;36m<module>\u001b[1;34m()\u001b[0m\n\u001b[0;32m     23\u001b[0m \u001b[0ma\u001b[0m \u001b[1;33m=\u001b[0m \u001b[0mnp\u001b[0m\u001b[1;33m.\u001b[0m\u001b[0mones\u001b[0m\u001b[1;33m(\u001b[0m\u001b[1;33m(\u001b[0m\u001b[1;36m3\u001b[0m\u001b[1;33m,\u001b[0m \u001b[1;36m2\u001b[0m\u001b[1;33m)\u001b[0m\u001b[1;33m)\u001b[0m\u001b[1;33m\u001b[0m\u001b[0m\n\u001b[0;32m     24\u001b[0m \u001b[0mb\u001b[0m \u001b[1;33m=\u001b[0m \u001b[0mnp\u001b[0m\u001b[1;33m.\u001b[0m\u001b[0mones\u001b[0m\u001b[1;33m(\u001b[0m\u001b[1;36m3\u001b[0m\u001b[1;33m)\u001b[0m\u001b[1;33m*\u001b[0m\u001b[1;36m3\u001b[0m\u001b[1;33m\u001b[0m\u001b[0m\n\u001b[1;32m---> 25\u001b[1;33m \u001b[0mres\u001b[0m \u001b[1;33m=\u001b[0m \u001b[0mcalculate\u001b[0m\u001b[1;33m(\u001b[0m\u001b[0ma\u001b[0m\u001b[1;33m,\u001b[0m \u001b[0mb\u001b[0m\u001b[1;33m)\u001b[0m\u001b[1;33m\u001b[0m\u001b[0m\n\u001b[0m\u001b[0;32m     26\u001b[0m \u001b[1;33m\u001b[0m\u001b[0m\n\u001b[0;32m     27\u001b[0m \u001b[1;32massert\u001b[0m \u001b[1;33m(\u001b[0m\u001b[0mres\u001b[0m \u001b[1;33m==\u001b[0m \u001b[0mnp\u001b[0m\u001b[1;33m.\u001b[0m\u001b[0marray\u001b[0m\u001b[1;33m(\u001b[0m\u001b[1;33m[\u001b[0m\u001b[1;33m[\u001b[0m \u001b[1;36m2.25\u001b[0m\u001b[1;33m,\u001b[0m  \u001b[1;36m2.25\u001b[0m\u001b[1;33m]\u001b[0m\u001b[1;33m,\u001b[0m\u001b[1;33m[\u001b[0m \u001b[1;36m2.25\u001b[0m\u001b[1;33m,\u001b[0m  \u001b[1;36m2.25\u001b[0m\u001b[1;33m]\u001b[0m\u001b[1;33m,\u001b[0m\u001b[1;33m[\u001b[0m \u001b[1;36m3.\u001b[0m\u001b[1;33m,\u001b[0m \u001b[1;36m3.\u001b[0m\u001b[1;33m]\u001b[0m\u001b[1;33m]\u001b[0m\u001b[1;33m)\u001b[0m\u001b[1;33m)\u001b[0m\u001b[1;33m.\u001b[0m\u001b[0mall\u001b[0m\u001b[1;33m(\u001b[0m\u001b[1;33m)\u001b[0m\u001b[1;33m\u001b[0m\u001b[0m\n",
      "\u001b[1;32m<ipython-input-85-b915ea8e0232>\u001b[0m in \u001b[0;36mcalculate\u001b[1;34m(a, b)\u001b[0m\n\u001b[0;32m     18\u001b[0m     \u001b[0ma\u001b[0m\u001b[1;33m[\u001b[0m\u001b[1;33m:\u001b[0m\u001b[1;36m2\u001b[0m\u001b[1;33m,\u001b[0m \u001b[1;33m:\u001b[0m\u001b[1;33m]\u001b[0m \u001b[1;33m-=\u001b[0m \u001b[0maa\u001b[0m\u001b[1;33m\u001b[0m\u001b[0m\n\u001b[0;32m     19\u001b[0m \u001b[1;33m\u001b[0m\u001b[0m\n\u001b[1;32m---> 20\u001b[1;33m     \u001b[1;32mreturn\u001b[0m \u001b[0ma\u001b[0m\u001b[1;33m*\u001b[0m\u001b[0mb\u001b[0m\u001b[1;33m\u001b[0m\u001b[0m\n\u001b[0m\u001b[0;32m     21\u001b[0m \u001b[1;33m\u001b[0m\u001b[0m\n\u001b[0;32m     22\u001b[0m \u001b[1;33m\u001b[0m\u001b[0m\n",
      "\u001b[1;31mValueError\u001b[0m: operands could not be broadcast together with shapes (3,2) (3,) "
     ]
    }
   ],
   "source": [
    "#15\n",
    "def calculate(a, b):\n",
    "    \"\"\"Do some calculations\n",
    "    \n",
    "    Take in two arrays, subtract 1/4 of the [:2,:] elements from the elements themselves.\n",
    "    Then multiply with array b and return the result.\n",
    "    \n",
    "    Inputs:\n",
    "        a: input array, shape [MxN]\n",
    "        b: input array, shape [M]\n",
    "    \n",
    "    Returns:\n",
    "        resultant array\n",
    "    \"\"\"\n",
    "\n",
    "    aa = a[:2, :]\n",
    "    aa /= 4.\n",
    "    a[:2, :] -= aa\n",
    "\n",
    "    return a*b\n",
    "    \n",
    "\n",
    "a = np.ones((3, 2))\n",
    "b = np.ones(3)*3\n",
    "res = calculate(a, b)\n",
    "\n",
    "assert (res == np.array([[ 2.25,  2.25],[ 2.25,  2.25],[ 3., 3.]])).all()"
   ]
  },
  {
   "cell_type": "code",
   "execution_count": 87,
   "metadata": {
    "collapsed": false
   },
   "outputs": [],
   "source": [
    "#16\n",
    "data = np.loadtxt('../python4geosciences/data/burl1h2010.txt')\n",
    "\n",
    "vdir = data[:,5]\n",
    "vspd = data[:,6]\n",
    "\n",
    "def wind(vdir, vspd):\n",
    "    d = np.radians(vdir)\n",
    "    u = (vspd)*np.cos(d)\n",
    "    v = (vspd)*np.sin(d)\n",
    "    return (u,v)"
   ]
  },
  {
   "cell_type": "code",
   "execution_count": null,
   "metadata": {
    "collapsed": true
   },
   "outputs": [],
   "source": []
  }
 ],
 "metadata": {
  "kernelspec": {
   "display_name": "Python 3",
   "language": "python",
   "name": "python3"
  },
  "language_info": {
   "codemirror_mode": {
    "name": "ipython",
    "version": 3
   },
   "file_extension": ".py",
   "mimetype": "text/x-python",
   "name": "python",
   "nbconvert_exporter": "python",
   "pygments_lexer": "ipython3",
   "version": "3.5.1"
  }
 },
 "nbformat": 4,
 "nbformat_minor": 0
}
